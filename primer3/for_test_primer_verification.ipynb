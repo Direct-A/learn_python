{
 "metadata": {
  "language_info": {
   "codemirror_mode": {
    "name": "ipython",
    "version": 3
   },
   "file_extension": ".py",
   "mimetype": "text/x-python",
   "name": "python",
   "nbconvert_exporter": "python",
   "pygments_lexer": "ipython3",
   "version": "3.7.9-final"
  },
  "orig_nbformat": 2,
  "kernelspec": {
   "name": "Python 3.7.9 64-bit ('base': conda)",
   "display_name": "Python 3.7.9 64-bit ('base': conda)",
   "metadata": {
    "interpreter": {
     "hash": "ea5681988e1f60d1f5083d58df583ed3b9eb99dec9c4969943521307570bb106"
    }
   }
  }
 },
 "nbformat": 4,
 "nbformat_minor": 2,
 "cells": [
  {
   "cell_type": "code",
   "execution_count": 1,
   "metadata": {},
   "outputs": [],
   "source": [
    "from primer3.thermoanalysis import ThermoAnalysis as Thermo"
   ]
  },
  {
   "source": [
    "实例化Thermo函数"
   ],
   "cell_type": "markdown",
   "metadata": {}
  },
  {
   "cell_type": "code",
   "execution_count": 2,
   "metadata": {},
   "outputs": [],
   "source": [
    "oligo_cala = Thermo()"
   ]
  },
  {
   "cell_type": "code",
   "execution_count": 3,
   "metadata": {},
   "outputs": [
    {
     "output_type": "execute_result",
     "data": {
      "text/plain": "59.593571425698144"
     },
     "metadata": {},
     "execution_count": 3
    }
   ],
   "source": [
    "oligo_cala.calcTm('CATCGATCAGCTAGCTACGT')"
   ]
  },
  {
   "cell_type": "code",
   "execution_count": 4,
   "metadata": {
    "tags": []
   },
   "outputs": [
    {
     "output_type": "stream",
     "name": "stdout",
     "text": "\u001b[1;31mForward primer\u001b[0m\t\t\t\u001b[1;32mReverse primer\u001b[0m\n"
    }
   ],
   "source": [
    "print('\\033[1;34m001\\033[0m')\n",
    "print('\\033[1;31mForward primer\\033[0m\\t\\t\\t\\t', end='')\n",
    "print('\\033[1;32mReverse primer\\033[0m')"
   ]
  },
  {
   "cell_type": "code",
   "execution_count": 6,
   "metadata": {},
   "outputs": [
    {
     "output_type": "error",
     "ename": "TypeError",
     "evalue": "object of type &#39;primer3.thermoanalysis.ThermoResult&#39; has no len()",
     "traceback": [
      "\u001b[0;31m---------------------------------------------------------------------------\u001b[0m",
      "\u001b[0;31mTypeError\u001b[0m                                 Traceback (most recent call last)",
      "\u001b[0;32m&lt;ipython-input-6-5afd02a359a0&gt;\u001b[0m in \u001b[0;36m&lt;module&gt;\u001b[0;34m\u001b[0m\n\u001b[0;32m----&gt; 1\u001b[0;31m \u001b[0mlen\u001b[0m\u001b[0;34m(\u001b[0m\u001b[0moligo_cala\u001b[0m\u001b[0;34m.\u001b[0m\u001b[0mcalcHairpin\u001b[0m\u001b[0;34m(\u001b[0m\u001b[0;34m&#39;CATCGATCAGCTAGCTACGT&#39;\u001b[0m\u001b[0;34m)\u001b[0m\u001b[0;34m)\u001b[0m\u001b[0;34m\u001b[0m\u001b[0;34m\u001b[0m\u001b[0m\n\u001b[0m",
      "\u001b[0;31mTypeError\u001b[0m: object of type &#39;primer3.thermoanalysis.ThermoResult&#39; has no len()"
     ]
    }
   ],
   "source": [
    "len(oligo_cala.calcHairpin('CATCGATCAGCTAGCTACGT'))"
   ]
  },
  {
   "source": [
    "输出上下游引物结果"
   ],
   "cell_type": "code",
   "metadata": {},
   "execution_count": null,
   "outputs": []
  },
  {
   "cell_type": "code",
   "execution_count": null,
   "metadata": {},
   "outputs": [],
   "source": [
    "for primer in primers:\n",
    "    for i in range(0, 2):\n",
    "        result = oligo_cal.calcTm(primer[i])\n",
    "        i += 1\n",
    "        print('\\033[1;3'+str(i)+'mTm:\\033[0m\\t', result, '\\t', end='')\n",
    "    print('')\n",
    "\n",
    "    for i in range(0, 2):\n",
    "        result = oligo_cal.calcHairpin(primer[i])\n",
    "        i += 1\n",
    "        print('\\033[1;3'+str(i)+'mHairpin:\\033[0m ', end='')\n",
    "        print('%-s Tm:%-.4f dG:%-.4f' %\n",
    "            (result.structure_found, result.tm, result.dg), '\\t', end='')\n",
    "    print('')\n",
    "\n",
    "    for i in range(0, 2):\n",
    "        result = oligo_cal.calcHomodimer(primer[i])\n",
    "        i += 1\n",
    "        print('\\033[1;3'+str(i)+'mHomodimer:\\033[0m ', end='')\n",
    "        print('%-s Tm:%-.4f dG:%-.4f' %\n",
    "            (result.structure_found, result.tm, result.dg), '\\t', end='')\n",
    "    print('')\n",
    "\n",
    "    result = oligo_cal.calcHeterodimer(primer[0], primer[1])\n",
    "    print('\\033[1mHeterodimer:\\033[0m', end='')\n",
    "    print('%-s Tm:%-.4f dG:%-.4f' % (result.structure_found, result.tm, result.dg))\n",
    "\n",
    "    result = oligo_cal.bindings.calcEndStability(primer[0], primer[1])\n",
    "    print('\\033[1mEndStability:\\033[0m', end='')\n",
    "    print('%-s Tm:%-.4f dG:%-.4f' % (result.structure_found, result.tm, result.dg))"
   ]
  }
 ]
}