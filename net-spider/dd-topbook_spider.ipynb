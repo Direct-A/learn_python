{
 "metadata": {
  "language_info": {
   "codemirror_mode": {
    "name": "ipython",
    "version": 3
   },
   "file_extension": ".py",
   "mimetype": "text/x-python",
   "name": "python",
   "nbconvert_exporter": "python",
   "pygments_lexer": "ipython3",
   "version": "3.7.10-final"
  },
  "orig_nbformat": 2,
  "kernelspec": {
   "name": "python3",
   "display_name": "Python 3.7.10 64-bit ('base': conda)",
   "metadata": {
    "interpreter": {
     "hash": "ea5681988e1f60d1f5083d58df583ed3b9eb99dec9c4969943521307570bb106"
    }
   }
  }
 },
 "nbformat": 4,
 "nbformat_minor": 2,
 "cells": [
  {
   "cell_type": "code",
   "execution_count": 1,
   "metadata": {},
   "outputs": [],
   "source": [
    "import requests\n",
    "import colorama\n",
    "from bs4 import BeautifulSoup"
   ]
  },
  {
   "cell_type": "code",
   "execution_count": 2,
   "metadata": {},
   "outputs": [],
   "source": [
    "page = 1\n",
    "url_dd = \"http://bang.dangdang.com/books/fivestars/01.00.00.00.00.00-recent30-0-0-1-\"\n",
    "url = url_dd + str(page)"
   ]
  },
  {
   "cell_type": "code",
   "execution_count": 3,
   "metadata": {},
   "outputs": [],
   "source": [
    "try:\n",
    "    rsp = requests.get(url)\n",
    "    if rsp.status_code == 200:\n",
    "        html = rsp.text\n",
    "except requests.RequestException:\n",
    "    html = None"
   ]
  },
  {
   "cell_type": "code",
   "execution_count": 5,
   "metadata": {},
   "outputs": [],
   "source": [
    "def cutter(soup: object, selector: str, strings: list) -> list: \n",
    "    \"\"\"cutter tidy web data\n",
    "\n",
    "    Args:\n",
    "        soup (object): BeautifulSoup(html, \"html.parser)\n",
    "        sp (str): seletor behind\n",
    "\n",
    "    Returns:\n",
    "        list: tiddied data\n",
    "    \"\"\"\n",
    "    \n",
    "    items = soup.select(selector)\n",
    "    all_items =[]\n",
    "\n",
    "    for item in items:\n",
    "        item = item.get_text()\n",
    "        for garb in strings:\n",
    "            item = item.replace(str(garb), \"\")\n",
    "        all_items.append(item)\n",
    "\n",
    "    return all_items"
   ]
  },
  {
   "cell_type": "code",
   "execution_count": 8,
   "metadata": {},
   "outputs": [],
   "source": [
    "b_ranks = cutter(soup, \"div.list_num\", [\"\\n\", \".\", \" \"])\n",
    "b_names = cutter(soup, \"div.name > a\", [\"\\n\", \" \"])\n",
    "b_authors = cutter(soup, \"div:nth-child(5)\", [\"\\n\", \" \"])\n",
    "b_stars = cutter(soup, \"div.star > span.tuijian\", [\"\\n\", \"推荐\", \" \"])\n",
    "b_counts = cutter(soup, \"div.biaosheng > span\", [\"\\n\", \"次\", \" \"])\n",
    "b_prices = cutter(soup, \"div.price > p:nth-child(1) > span.price_n\", [\"\\n\", \"¥\", \" \"])"
   ]
  },
  {
   "cell_type": "code",
   "execution_count": 10,
   "metadata": {},
   "outputs": [
    {
     "output_type": "stream",
     "name": "stdout",
     "text": [
      "['1', '2', '3', '4', '5', '6', '7', '8', '9', '10', '11', '12', '13', '14', '15', '16', '17', '18', '19', '20']\n"
     ]
    }
   ],
   "source": [
    "print(b_ranks)"
   ]
  },
  {
   "cell_type": "code",
   "execution_count": 18,
   "metadata": {
    "tags": []
   },
   "outputs": [],
   "source": [
    "soup = BeautifulSoup(html, \"html.parser\")\n",
    "soup = soup.select(\"body > div.bang_wrapper > div.bang_content > div.bang_list_box > ul > li\")"
   ]
  },
  {
   "cell_type": "code",
   "execution_count": 19,
   "metadata": {},
   "outputs": [
    {
     "output_type": "stream",
     "name": "stdout",
     "text": [
      "<li>\n<div class=\"list_num red\">1.</div>\n<div class=\"pic\"><a href=\"http://product.dangdang.com/28522577.html\" target=\"_blank\"><img alt=\"人间至美：朱光潜经典散文集\" src=\"http://img3m7.ddimg.cn/83/17/28522577-1_l_12.jpg\" title=\"人间至美：朱光潜经典散文集\"/></a></div>\n<div class=\"name\"><a href=\"http://product.dangdang.com/28522577.html\" target=\"_blank\" title=\"人间至美：朱光潜经典散文集\">人间至美：朱光潜经典散文集</a></div>\n<div class=\"star\"><span class=\"level\"><span style=\"width: 94%;\"></span></span><a href=\"http://product.dangdang.com/28522577.html?point=comment_point\" target=\"_blank\">104825条评论</a><span class=\"tuijian\">100%推荐</span></div>\n<div class=\"publisher_info\"><a href=\"http://search.dangdang.com/?key=朱光潜\" target=\"_blank\" title=\"朱光潜，酷威文化 出品\">朱光潜</a>，<a href=\"http://search.dangdang.com/?key=酷威文化\" target=\"_blank\" title=\"朱光潜，酷威文化 出品\">酷威文化</a> 出品</div>\n<div class=\"publisher_info\"><span>2020-05-01</span> <a href=\"http://search.dangdang.com/?key=花山文艺出版社\" target=\"_blank\">花山文艺出版社</a></div>\n<div class=\"biaosheng\">五星评分：<span>87068次</span></div>\n<div class=\"price\">\n<p><span class=\"price_n\">¥34.70</span>\n<span class=\"price_r\">¥39.80</span>(<span class=\"price_s\">8.7折</span>)\n                    </p>\n<p class=\"price_e\">电子书：<span class=\"price_n\">¥3.99</span></p>\n<div class=\"buy_button\">\n<a class=\"listbtn_buy\" ddname=\"加入购物车\" href=\"javascript:AddToShoppingCart('28522577');\" name=\"\">加入购物车</a>\n<a class=\"listbtn_buydz\" href=\"http://product.dangdang.com/1901199552.html\" name=\"\" target=\"_blank\">购买电子书</a>\n<a class=\"listbtn_collect\" ddname=\"加入收藏\" href=\"javascript:showMsgBox('addto_favorlist_28522577',encodeURIComponent('28522577&amp;platform=3'), 'http://myhome.dangdang.com/addFavoritepop');\" id=\"addto_favorlist_28522577\" name=\"\">收藏</a>\n</div>\n</div>\n</li>\n"
     ]
    }
   ],
   "source": [
    "print(soup[0])"
   ]
  },
  {
   "cell_type": "code",
   "execution_count": 24,
   "metadata": {},
   "outputs": [
    {
     "output_type": "stream",
     "name": "stdout",
     "text": [
      "7\n"
     ]
    }
   ],
   "source": [
    "b = [1,2,5,4,7,8,9]\n",
    "print(len(b))"
   ]
  },
  {
   "cell_type": "code",
   "execution_count": 26,
   "metadata": {},
   "outputs": [
    {
     "output_type": "stream",
     "name": "stdout",
     "text": [
      "0\n1\n2\n3\n4\n"
     ]
    }
   ],
   "source": [
    "for i in range(5):\n",
    "    print(i)"
   ]
  },
  {
   "cell_type": "code",
   "execution_count": null,
   "metadata": {},
   "outputs": [],
   "source": []
  }
 ]
}