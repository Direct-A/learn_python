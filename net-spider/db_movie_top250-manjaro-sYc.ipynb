{
 "metadata": {
  "language_info": {
   "codemirror_mode": {
    "name": "ipython",
    "version": 3
   },
   "file_extension": ".py",
   "mimetype": "text/x-python",
   "name": "python",
   "nbconvert_exporter": "python",
   "pygments_lexer": "ipython3",
   "version": "3.7.10-final"
  },
  "orig_nbformat": 2,
  "kernelspec": {
   "name": "python3",
   "display_name": "Python 3.7.10 64-bit ('base': conda)",
   "metadata": {
    "interpreter": {
     "hash": "ea5681988e1f60d1f5083d58df583ed3b9eb99dec9c4969943521307570bb106"
    }
   }
  }
 },
 "nbformat": 4,
 "nbformat_minor": 2,
 "cells": [
  {
   "cell_type": "code",
   "execution_count": 1,
   "metadata": {},
   "outputs": [],
   "source": [
    "import openpyxl\n",
    "import requests\n",
    "from bs4 import BeautifulSoup"
   ]
  },
  {
   "cell_type": "code",
   "execution_count": 2,
   "metadata": {},
   "outputs": [],
   "source": [
    "page = 9"
   ]
  },
  {
   "cell_type": "code",
   "execution_count": 3,
   "metadata": {},
   "outputs": [],
   "source": [
    "wb = openpyxl.Workbook()\n",
    "ws = wb.active\n",
    "\n",
    "# 写入表头\n",
    "keys = [\"name\", \"pic\", \"rank\", \"rating\", \"director\", \"intro\"]\n",
    "c_range = range(1, 7)\n",
    "for col, key in zip(c_range, keys):\n",
    "    ws.cell(1, col, key)\n",
    "\n",
    "data_continner = []"
   ]
  },
  {
   "cell_type": "code",
   "execution_count": 4,
   "metadata": {},
   "outputs": [],
   "source": [
    "def request_db(url: str) -> object:\n",
    "    head = {\n",
    "        \"user-agent\": \"Mozilla/5.0 (iPhone; CPU iPhone OS 11_0 like Mac OS X) AppleWebKit/604.1.38 (KHTML, like Gecko) Version/11.0 Mobile/15A372 Safari/604.1\"\n",
    "    }\n",
    "    data_all = requests.get(url, headers=head)\n",
    "    if data_all.status_code == 200:\n",
    "        soup = BeautifulSoup(data_all.text, \"html.parser\")\n",
    "        return soup\n",
    "    else:\n",
    "        return print(\"Error: {}\".format(data_all.status_code))"
   ]
  },
  {
   "cell_type": "code",
   "execution_count": 5,
   "metadata": {},
   "outputs": [],
   "source": [
    "url = \"https://movie.douban.com/top250?start={}&filter=\".format(page*25)\n",
    "soup = request_db(url)\n",
    "data = soup.select(\"#content > div > div.article > ol > li\")"
   ]
  },
  {
   "cell_type": "code",
   "execution_count": 6,
   "metadata": {},
   "outputs": [
    {
     "output_type": "stream",
     "name": "stdout",
     "text": [
      "https://movie.douban.com/top250?start=225&filter=\n"
     ]
    }
   ],
   "source": [
    "print(url)"
   ]
  },
  {
   "cell_type": "code",
   "execution_count": 12,
   "metadata": {},
   "outputs": [],
   "source": [
    "def tidier(ResultSet, garbs: list):\n",
    "    for garb in garbs:\n",
    "        ResultSet = ResultSet.replace(str(garb), \"\")\n",
    "    return ResultSet\n",
    "\n",
    "\n",
    "def cutter(inner_soup: object, selector: str, flag: int = 1, **sp) -> str:\n",
    "    ResultSet = inner_soup.select(selector)\n",
    "    if ResultSet == []:\n",
    "        ResultSet = BeautifulSoup(\"\", \"html.parser\")\n",
    "    else:\n",
    "        ResultSet = ResultSet[0]\n",
    "\n",
    "    def inner_get_text():\n",
    "        result = ResultSet.get_text(strip=True)\n",
    "        return tidier(result, [\" \"])\n",
    "\n",
    "    def inner_get(sp: str):\n",
    "        result = ResultSet.get(sp)\n",
    "        return tidier(result, [\" \"])\n",
    "\n",
    "    chooser = {\n",
    "        1: inner_get_text,\n",
    "        2: inner_get\n",
    "    }\n",
    "\n",
    "    return chooser[flag](**sp)"
   ]
  },
  {
   "cell_type": "code",
   "execution_count": 13,
   "metadata": {},
   "outputs": [],
   "source": [
    "for block in data:\n",
    "    inner_soup = BeautifulSoup(str(block), \"html.parser\")\n",
    "    name = cutter(inner_soup, \"div.hd > a\")\n",
    "    pic = cutter(inner_soup, \"div.pic > a > img\", 2, sp=\"src\")\n",
    "    rank = cutter(inner_soup, \"div.pic > em\")\n",
    "    rating = cutter(\n",
    "        inner_soup, \"div.info > div.bd > div > span.rating_num\")\n",
    "    director = cutter(\n",
    "        inner_soup, \"div.info > div.bd > p:nth-child(1)\")\n",
    "    intro = cutter(\n",
    "        inner_soup, \"div.info > div.bd > p.quote > span\")\n",
    "    data_block = {\n",
    "        \"name\": name,\n",
    "        \"pic\": pic,\n",
    "        \"rank\": rank,\n",
    "        \"rating\": rating,\n",
    "        \"director\": director,\n",
    "        \"intro\": intro,\n",
    "    }\n",
    "\n",
    "    data_continner.append(data_block)\n"
   ]
  },
  {
   "cell_type": "code",
   "execution_count": 14,
   "metadata": {},
   "outputs": [
    {
     "output_type": "stream",
     "name": "stdout",
     "text": [
      "[{'name': '谍影重重2/\\xa0TheBourneSupremacy/\\xa0叛谍追击2：机密圈套(港)/神鬼认证：神鬼疑云(台)', 'pic': 'https://img9.doubanio.com/view/photo/s_ratio_poster/public/p667644866.jpg', 'rank': '226', 'rating': '8.7', 'director': '导演:保罗·格林格拉斯PaulGreengrass\\xa0\\xa0\\xa0主演:马特·达蒙MattDamon/...2004\\xa0/\\xa0美国德国\\xa0/\\xa0动作悬疑惊悚', 'intro': '谁说王家卫镜头很晃？'}, {'name': '彗星来的那一夜/\\xa0Coherence/\\xa0相干性/相干效应', 'pic': 'https://img9.doubanio.com/view/photo/s_ratio_poster/public/p2187896734.jpg', 'rank': '227', 'rating': '8.5', 'director': '导演:詹姆斯·沃德·布柯特JamesWardByrkit\\xa0\\xa0\\xa0主演:艾米丽·芭尔多尼Em...2013\\xa0/\\xa0美国英国\\xa0/\\xa0科幻悬疑惊悚', 'intro': '小成本大魅力。'}, {'name': '阿飞正传/\\xa0阿飛正傳/\\xa0DaysofBeingWild', 'pic': 'https://img2.doubanio.com/view/photo/s_ratio_poster/public/p2525770523.jpg', 'rank': '228', 'rating': '8.5', 'director': '导演:王家卫KarWaiWong\\xa0\\xa0\\xa0主演:张国荣LeslieCheung/张曼玉MaggieC...1990\\xa0/\\xa0中国香港\\xa0/\\xa0犯罪剧情爱情', 'intro': '王家卫是一种风格，张国荣是一个代表。'}, {'name': '完美陌生人/\\xa0Perfettisconosciuti/\\xa0完美谎情(港)/波动的信息分享', 'pic': 'https://img9.doubanio.com/view/photo/s_ratio_poster/public/p2522331945.jpg', 'rank': '229', 'rating': '8.5', 'director': '导演:保罗·格诺维瑟PaoloGenovese\\xa0\\xa0\\xa0主演:马可·贾利尼MarcoGiallini...2016\\xa0/\\xa0意大利\\xa0/\\xa0剧情喜剧', 'intro': '来啊，互相伤害啊！'}, {'name': '战争之王/\\xa0LordofWar/\\xa0军火之王(台/港)', 'pic': 'https://img3.doubanio.com/view/photo/s_ratio_poster/public/p792282381.jpg', 'rank': '230', 'rating': '8.7', 'director': '导演:安德鲁·尼科尔AndrewNiccol\\xa0\\xa0\\xa0主演:尼古拉斯·凯奇NicolasCage/...2005\\xa0/\\xa0美国法国\\xa0/\\xa0剧情犯罪', 'intro': '做一颗让别人需要你的棋子。'}, {'name': '地球上的星星/\\xa0TaareZameenPar/\\xa0心中的小星星(台)/每一个孩子都是特别的', 'pic': 'https://img9.doubanio.com/view/photo/s_ratio_poster/public/p1973489335.jpg', 'rank': '231', 'rating': '8.9', 'director': '导演:阿米尔·汗AamirKhan\\xa0\\xa0\\xa0主演:达席尔·萨法瑞DarsheelSafary/阿...2007\\xa0/\\xa0印度\\xa0/\\xa0剧情儿童家庭', 'intro': '天使保护事件始末。'}, {'name': '东京教父/\\xa0東京ゴッドファーザーズ/\\xa0TokyoGodfathers', 'pic': 'https://img1.doubanio.com/view/photo/s_ratio_poster/public/p456703618.jpg', 'rank': '232', 'rating': '9.0', 'director': '导演:今敏SatoshiKon\\xa0\\xa0\\xa0主演:江守彻ToruEmori/梅垣义明YoshiakiUme...2003\\xa0/\\xa0日本\\xa0/\\xa0剧情喜剧动画', 'intro': ''}, {'name': '谍影重重/\\xa0TheBourneIdentity/\\xa0叛谍追击(港)/神鬼认证(台)', 'pic': 'https://img3.doubanio.com/view/photo/s_ratio_poster/public/p1597183981.jpg', 'rank': '233', 'rating': '8.6', 'director': '导演:道格·里曼DougLiman\\xa0\\xa0\\xa0主演:马特·达蒙MattDamon/弗兰卡·波坦...2002\\xa0/\\xa0美国德国捷克\\xa0/\\xa0动作悬疑惊悚', 'intro': '哗啦啦啦啦，天在下雨，哗啦啦啦啦，云在哭泣……找自己。'}, {'name': '香水/\\xa0Perfume:TheStoryofaMurderer/\\xa0香水：一个杀人犯的故事/香水：一个谋杀犯的故事', 'pic': 'https://img2.doubanio.com/view/photo/s_ratio_poster/public/p2571500223.jpg', 'rank': '234', 'rating': '8.5', 'director': '导演:汤姆·提克威TomTykwer\\xa0\\xa0\\xa0主演:本·卫肖BenWhishaw/艾伦·瑞克...2006\\xa0/\\xa0德国法国西班牙美国\\xa0/\\xa0剧情犯罪奇幻', 'intro': '一个单凭体香达到高潮的男人。'}, {'name': '无间道2/\\xa0無間道II/\\xa0无间道前传/InfernalAffairsII', 'pic': 'https://img3.doubanio.com/view/photo/s_ratio_poster/public/p958008320.jpg', 'rank': '235', 'rating': '8.6', 'director': '导演:刘伟强/麦兆辉\\xa0\\xa0\\xa0主演:陈冠希/余文乐/曾志伟2003\\xa0/\\xa0中国香港\\xa0/\\xa0动作犯罪剧情惊悚', 'intro': ''}, {'name': '千钧一发/\\xa0Gattaca/\\xa0变种异煞(港)/自然人', 'pic': 'https://img9.doubanio.com/view/photo/s_ratio_poster/public/p2195672555.jpg', 'rank': '236', 'rating': '8.8', 'director': '导演:安德鲁·尼科尔AndrewNiccol\\xa0\\xa0\\xa0主演:伊桑·霍克EthanHawke/乌玛...1997\\xa0/\\xa0美国\\xa0/\\xa0剧情科幻惊悚', 'intro': '一部能引人思考的科幻励志片。'}, {'name': '东京物语/\\xa0東京物語/\\xa0东京故事/东京纪行', 'pic': 'https://img9.doubanio.com/view/photo/s_ratio_poster/public/p1925331564.jpg', 'rank': '237', 'rating': '9.2', 'director': '导演:小津安二郎YasujirôOzu\\xa0\\xa0\\xa0主演:笠智众ChishûRyû/原节...1953\\xa0/\\xa0日本\\xa0/\\xa0剧情家庭', 'intro': '东京那么大，如果有一天走失了，恐怕一辈子不能再相见。'}, {'name': '黑客帝国2：重装上阵/\\xa0TheMatrixReloaded/\\xa022世纪杀人网络2：决战未来(港)/骇客任务：重装上阵(台)', 'pic': 'https://img3.doubanio.com/view/photo/s_ratio_poster/public/p443461390.jpg', 'rank': '238', 'rating': '8.6', 'director': '导演:AndyWachowski/LarryWachowski\\xa0\\xa0\\xa0主演:基努·里维斯KeanuReeves...2003\\xa0/\\xa0美国澳大利亚\\xa0/\\xa0动作科幻', 'intro': '一个精彩的世界观正在缓缓建立。'}, {'name': '驴得水/\\xa0Mr.Donkey', 'pic': 'https://img3.doubanio.com/view/photo/s_ratio_poster/public/p2393044761.jpg', 'rank': '239', 'rating': '8.4', 'director': '导演:周申ShenZhou/刘露LuLiu\\xa0\\xa0\\xa0主演:任素汐SuxiRen/大力DaLi...2016\\xa0/\\xa0中国大陆\\xa0/\\xa0剧情喜剧', 'intro': '过去的如果就让它过去了，未来只会越来越糟！'}, {'name': '朗读者/\\xa0TheReader/\\xa0为爱朗读(台)/读爱(港)', 'pic': 'https://img1.doubanio.com/view/photo/s_ratio_poster/public/p1140984198.jpg', 'rank': '240', 'rating': '8.6', 'director': '导演:史蒂芬·戴德利StephenDaldry\\xa0\\xa0\\xa0主演:凯特·温丝莱特KateWinslet...2008\\xa0/\\xa0美国德国\\xa0/\\xa0剧情爱情', 'intro': '当爱情跨越年龄的界限，它似乎能变得更久远一点，成为一种责任，一种水到渠成的相濡以沫。'}, {'name': '崖上的波妞/\\xa0崖の上のポニョ/\\xa0悬崖上的金鱼姬/悬崖上的金鱼公主', 'pic': 'https://img1.doubanio.com/view/photo/s_ratio_poster/public/p2627847859.jpg', 'rank': '241', 'rating': '8.5', 'director': '导演:宫崎骏HayaoMiyazaki\\xa0\\xa0\\xa0主演:奈良柚莉爱YuriaNara/土井洋辉Hir...2008\\xa0/\\xa0日本\\xa0/\\xa0动画奇幻冒险', 'intro': ''}, {'name': '再次出发之纽约遇见你/\\xa0BeginAgain/\\xa0再次出发/歌曲改变人生', 'pic': 'https://img2.doubanio.com/view/photo/s_ratio_poster/public/p2250287733.jpg', 'rank': '242', 'rating': '8.6', 'director': '导演:约翰·卡尼JohnCarney\\xa0\\xa0\\xa0主演:凯拉·奈特莉KeiraKnightley/马克...2013\\xa0/\\xa0美国\\xa0/\\xa0喜剧爱情音乐', 'intro': '爱我就给我看你的播放列表。'}, {'name': '我爱你/\\xa0그대를사랑합니다/\\xa0爱你/爱，是一生相伴(台)', 'pic': 'https://img1.doubanio.com/view/photo/s_ratio_poster/public/p1075591188.jpg', 'rank': '243', 'rating': '9.1', 'director': '导演:秋昌民Chang-minChoo\\xa0\\xa0\\xa0主演:宋在河Jae-hoSong/李顺载Soon-jae...2011\\xa0/\\xa0韩国\\xa0/\\xa0剧情爱情', 'intro': '你要相信，这世上真的有爱存在，不管在什么年纪'}, {'name': '猜火车/\\xa0Trainspotting/\\xa0迷幻列车(港)/定位的火车', 'pic': 'https://img1.doubanio.com/view/photo/s_ratio_poster/public/p513567548.jpg', 'rank': '244', 'rating': '8.5', 'director': '导演:丹尼·博伊尔DannyBoyle\\xa0\\xa0\\xa0主演:伊万·麦克格雷格EwanMcGregor/...1996\\xa0/\\xa0英国\\xa0/\\xa0剧情犯罪', 'intro': '不可猜的青春迷笛。'}, {'name': '聚焦/\\xa0Spotlight/\\xa0焦点追击(港)/惊爆焦点(台)', 'pic': 'https://img1.doubanio.com/view/photo/s_ratio_poster/public/p2263822658.jpg', 'rank': '245', 'rating': '8.8', 'director': '导演:托马斯·麦卡锡ThomasMcCarthy\\xa0\\xa0\\xa0主演:马克·鲁弗洛MarkRuffalo/...2015\\xa0/\\xa0美国\\xa0/\\xa0剧情传记', 'intro': '新闻人的理性求真。'}, {'name': '浪潮/\\xa0DieWelle/\\xa0恶魔教室(台)/白恤暴潮(港)', 'pic': 'https://img2.doubanio.com/view/photo/s_ratio_poster/public/p1344888983.jpg', 'rank': '246', 'rating': '8.7', 'director': '导演:丹尼斯·甘塞尔DennisGansel\\xa0\\xa0\\xa0主演:尤尔根·沃格尔JürgenVogel...2008\\xa0/\\xa0德国\\xa0/\\xa0剧情惊悚', 'intro': '世界离独裁只有五天。'}, {'name': '小萝莉的猴神大叔/\\xa0BajrangiBhaijaan/\\xa0娃娃返乡任务(台)/宝莱坞之钢铁奶爸(台)', 'pic': 'https://img9.doubanio.com/view/photo/s_ratio_poster/public/p2510956726.jpg', 'rank': '247', 'rating': '8.4', 'director': '导演:卡比尔·汗KabirKhan\\xa0\\xa0\\xa0主演:萨尔曼·汗SalmanKhan/哈莎莉·马...2015\\xa0/\\xa0印度\\xa0/\\xa0剧情喜剧动作', 'intro': '宝莱坞的萝莉与大叔。'}, {'name': '追随/\\xa0Following/\\xa0跟踪(台)/致命追踪', 'pic': 'https://img3.doubanio.com/view/photo/s_ratio_poster/public/p2561545031.jpg', 'rank': '248', 'rating': '8.9', 'director': '导演:克里斯托弗·诺兰ChristopherNolan\\xa0\\xa0\\xa0主演:杰里米·西奥伯德Jeremy...1998\\xa0/\\xa0英国\\xa0/\\xa0犯罪悬疑惊悚', 'intro': '诺兰的牛逼来源于内心散发出的恐惧。'}, {'name': '网络谜踪/\\xa0Searching/\\xa0人肉搜寻(港)/人肉搜索(台)', 'pic': 'https://img1.doubanio.com/view/photo/s_ratio_poster/public/p2542848758.jpg', 'rank': '249', 'rating': '8.6', 'director': '导演:阿尼什·查甘蒂AneeshChaganty\\xa0\\xa0\\xa0主演:约翰·赵JohnCho/米切尔...2018\\xa0/\\xa0美国俄罗斯\\xa0/\\xa0剧情犯罪悬疑惊悚', 'intro': ''}, {'name': '黑鹰坠落/\\xa0BlackHawkDown/\\xa0黑鹰15小时(港)/黑鹰计划(台)', 'pic': 'https://img3.doubanio.com/view/photo/s_ratio_poster/public/p1910900710.jpg', 'rank': '250', 'rating': '8.7', 'director': '导演:雷德利·斯科特RidleyScott\\xa0\\xa0\\xa0主演:乔什·哈奈特JoshHartnett/...2001\\xa0/\\xa0美国英国\\xa0/\\xa0动作历史战争', 'intro': '还原真实而残酷的战争。'}]\n"
     ]
    }
   ],
   "source": [
    "print(name)"
   ]
  },
  {
   "source": [
    "## 试验场"
   ],
   "cell_type": "markdown",
   "metadata": {}
  },
  {
   "cell_type": "code",
   "execution_count": null,
   "metadata": {
    "tags": []
   },
   "outputs": [],
   "source": [
    "inner_soup = BeautifulSoup(str(data[0]), \"html.parser\")\n",
    "name = inner_soup.select(\"div.hd > a\")\n",
    "print(\"data[0] = {}\".format(type(data[0])))\n",
    "print(\"str(data[0]) = {}\".format(type(str(data[0]))))\n",
    "print(\"innersoup = {}\".format(type(inner_soup)))\n",
    "print(\"name = {}\".format(type(name)))\n",
    "print(\"name[0] = {}\".format(type(name[0])))"
   ]
  },
  {
   "source": [
    "### new cutter()"
   ],
   "cell_type": "markdown",
   "metadata": {}
  },
  {
   "cell_type": "code",
   "execution_count": null,
   "metadata": {},
   "outputs": [],
   "source": []
  },
  {
   "cell_type": "code",
   "execution_count": null,
   "metadata": {},
   "outputs": [],
   "source": [
    "pic = cutter(inner_soup, \"div.pic > a > img\", 2, sp=\"src\")\n",
    "print(pic)"
   ]
  },
  {
   "source": [
    "## intro error"
   ],
   "cell_type": "markdown",
   "metadata": {}
  },
  {
   "cell_type": "code",
   "execution_count": null,
   "metadata": {},
   "outputs": [],
   "source": [
    "inner_soup = BeautifulSoup(str(block), \"html.parser\")\n",
    "name = cutter(inner_soup, \"div.hd > a\")\n",
    "pic = cutter(inner_soup, \"div.pic > a > img\", 2, sp=\"src\")\n",
    "rank = cutter(inner_soup, \"div.pic > em\")\n",
    "rating = cutter(\n",
    "    inner_soup, \"div.info > div.bd > div > span.rating_num\")\n",
    "director = cutter(\n",
    "    inner_soup, \"div.info > div.bd > p:nth-child(1)\")\n",
    "intro = cutter(\n",
    "    inner_soup, \"div.info > div.bd > p.quote > span\")\n",
    "data_block = {\n",
    "    \"name\": name,\n",
    "    \"pic\": pic,\n",
    "    \"rank\": rank,\n",
    "    \"rating\": rating,\n",
    "    \"director\": director,\n",
    "    \"intro\": intro,\n",
    "}\n"
   ]
  },
  {
   "cell_type": "code",
   "execution_count": null,
   "metadata": {},
   "outputs": [],
   "source": [
    "ResultSet = inner_soup.select(\"div.info > div.bd > p.quote > span\")\n",
    "BeautifulSoup(\"\", \"html.parser\").get_text()"
   ]
  },
  {
   "cell_type": "code",
   "execution_count": null,
   "metadata": {},
   "outputs": [],
   "source": [
    "keys =[\"name\", \"pic\", \"rank\", \"rating\", \"director\", \"intro\"]"
   ]
  },
  {
   "cell_type": "code",
   "execution_count": null,
   "metadata": {},
   "outputs": [],
   "source": [
    "import openpyxl"
   ]
  },
  {
   "cell_type": "code",
   "execution_count": null,
   "metadata": {},
   "outputs": [],
   "source": [
    "wb = openpyxl.Workbook()\n",
    "ws = wb.active"
   ]
  },
  {
   "cell_type": "code",
   "execution_count": null,
   "metadata": {},
   "outputs": [],
   "source": [
    "for row in ws.iter_rows(min_row=1, max_col=6):\n",
    "    for value,key in row,keys:\n",
    "        value.value = data_block[key]"
   ]
  },
  {
   "cell_type": "code",
   "execution_count": null,
   "metadata": {},
   "outputs": [],
   "source": [
    "[chr(letter).upper() for letter in range(65, 91)]"
   ]
  },
  {
   "cell_type": "code",
   "execution_count": null,
   "metadata": {},
   "outputs": [],
   "source": [
    "list(data_block.keys())[1]"
   ]
  },
  {
   "cell_type": "code",
   "execution_count": null,
   "metadata": {},
   "outputs": [],
   "source": [
    "for cell, key in zip(ws.rows, keys):\n",
    "    cell.value = key"
   ]
  },
  {
   "cell_type": "code",
   "execution_count": null,
   "metadata": {},
   "outputs": [],
   "source": [
    "for cell in ws[1]:\n",
    "    print(cell.value)"
   ]
  },
  {
   "source": [
    "i = [i for i in range(1, 20, 4)]\n",
    "j = [j for j in range(20, 1, -5)]\n",
    "print(\"i,j: {} {}\".format(i, j))"
   ],
   "cell_type": "code",
   "metadata": {},
   "execution_count": null,
   "outputs": []
  },
  {
   "cell_type": "code",
   "execution_count": null,
   "metadata": {},
   "outputs": [],
   "source": [
    "for inner_i, inner_j in zip(i, j):\n",
    "    print(\"i, j: {} {}\".format(inner_i, inner_j))"
   ]
  },
  {
   "cell_type": "code",
   "execution_count": null,
   "metadata": {},
   "outputs": [],
   "source": [
    "for zm, i in list(zip([chr(letter).upper() for letter in range(65, 91)], range(len(keys)))):\n",
    "    sheet[zm+str(1)].value = keys[i]"
   ]
  },
  {
   "cell_type": "code",
   "execution_count": null,
   "metadata": {},
   "outputs": [],
   "source": [
    "zipped = zip(ws.rows, keys)"
   ]
  },
  {
   "cell_type": "code",
   "execution_count": null,
   "metadata": {},
   "outputs": [],
   "source": [
    "list(zipped)"
   ]
  },
  {
   "cell_type": "code",
   "execution_count": null,
   "metadata": {},
   "outputs": [],
   "source": [
    "for i in range(65, 71):\n",
    "    print(chr(i))"
   ]
  },
  {
   "cell_type": "code",
   "execution_count": null,
   "metadata": {},
   "outputs": [],
   "source": [
    "help(chr)"
   ]
  },
  {
   "cell_type": "code",
   "execution_count": null,
   "metadata": {},
   "outputs": [],
   "source": [
    "keys = [\"sb\", \"p\", \"r\", \"rat\", \"tor\", \"intro\"]\n",
    "c_range = [range(1, 7)]\n",
    "for col, key in zip(c_range, keys):\n",
    "    ws.cell(1, col, key)"
   ]
  },
  {
   "cell_type": "code",
   "execution_count": null,
   "metadata": {},
   "outputs": [],
   "source": [
    "for cell in ws[1]:\n",
    "    print(cell.value)"
   ]
  },
  {
   "cell_type": "code",
   "execution_count": null,
   "metadata": {},
   "outputs": [],
   "source": [
    "for i in range(10):\n",
    "    print(i)"
   ]
  },
  {
   "cell_type": "code",
   "execution_count": null,
   "metadata": {},
   "outputs": [],
   "source": []
  }
 ]
}