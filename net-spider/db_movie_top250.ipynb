{
 "metadata": {
  "language_info": {
   "codemirror_mode": {
    "name": "ipython",
    "version": 3
   },
   "file_extension": ".py",
   "mimetype": "text/x-python",
   "name": "python",
   "nbconvert_exporter": "python",
   "pygments_lexer": "ipython3",
   "version": "3.7.10-final"
  },
  "orig_nbformat": 2,
  "kernelspec": {
   "name": "python3",
   "display_name": "Python 3.7.10 64-bit ('base': conda)",
   "metadata": {
    "interpreter": {
     "hash": "ea5681988e1f60d1f5083d58df583ed3b9eb99dec9c4969943521307570bb106"
    }
   }
  }
 },
 "nbformat": 4,
 "nbformat_minor": 2,
 "cells": [
  {
   "cell_type": "code",
   "execution_count": 1,
   "metadata": {},
   "outputs": [],
   "source": [
    "import openpyxl\n",
    "import requests\n",
    "from bs4 import BeautifulSoup"
   ]
  },
  {
   "cell_type": "code",
   "execution_count": 2,
   "metadata": {},
   "outputs": [],
   "source": [
    "page = 9"
   ]
  },
  {
   "cell_type": "code",
   "execution_count": 3,
   "metadata": {},
   "outputs": [],
   "source": [
    "wb = openpyxl.Workbook()\n",
    "ws = wb.active\n",
    "\n",
    "# 写入表头\n",
    "keys = [\"name\", \"pic\", \"rank\", \"rating\", \"director\", \"intro\"]\n",
    "c_range = range(1, 7)\n",
    "for col, key in zip(c_range, keys):\n",
    "    ws.cell(1, col, key)\n",
    "\n",
    "data_continner = []"
   ]
  },
  {
   "cell_type": "code",
   "execution_count": 4,
   "metadata": {},
   "outputs": [],
   "source": [
    "def request_db(url: str) -> object:\n",
    "    head = {\n",
    "        \"user-agent\": \"Mozilla/5.0 (iPhone; CPU iPhone OS 11_0 like Mac OS X) AppleWebKit/604.1.38 (KHTML, like Gecko) Version/11.0 Mobile/15A372 Safari/604.1\"\n",
    "    }\n",
    "    data_all = requests.get(url, headers=head)\n",
    "    if data_all.status_code == 200:\n",
    "        soup = BeautifulSoup(data_all.text, \"html.parser\")\n",
    "        return soup\n",
    "    else:\n",
    "        return print(\"Error: {}\".format(data_all.status_code))"
   ]
  },
  {
   "cell_type": "code",
   "execution_count": 5,
   "metadata": {},
   "outputs": [],
   "source": [
    "url = \"https://movie.douban.com/top250?start={}&filter=\".format(page*25)\n",
    "soup = request_db(url)\n",
    "data = soup.select(\"#content > div > div.article > ol > li\")"
   ]
  },
  {
   "cell_type": "code",
   "execution_count": 6,
   "metadata": {},
   "outputs": [
    {
     "output_type": "stream",
     "name": "stdout",
     "text": [
      "https://movie.douban.com/top250?start=225&filter=\n"
     ]
    }
   ],
   "source": [
    "print(url)"
   ]
  },
  {
   "cell_type": "code",
   "execution_count": 7,
   "metadata": {},
   "outputs": [],
   "source": [
    "def tidier(ResultSet, garbs: list):\n",
    "    for garb in garbs:\n",
    "        ResultSet = ResultSet.replace(str(garb), \"\")\n",
    "    return ResultSet\n",
    "\n",
    "\n",
    "def cutter(inner_soup: object, selector: str, flag: int = 1, **sp) -> str:\n",
    "    ResultSet = inner_soup.select(selector)\n",
    "    if ResultSet == []:\n",
    "        ResultSet = BeautifulSoup(\"\", \"html.parser\")\n",
    "    else:\n",
    "        ResultSet = ResultSet[0]\n",
    "\n",
    "    def inner_get_text():\n",
    "        ResultSet = ResultSet.get_text(strip=True)\n",
    "        return tidier(ResultSet, [\" \"])\n",
    "\n",
    "    def inner_get(sp: str):\n",
    "        ResultSet = ResultSet.get(sp)\n",
    "        return tidier(ResultSet, [\" \"])\n",
    "\n",
    "    chooser = {\n",
    "        1: inner_get_text,\n",
    "        2: inner_get\n",
    "    }\n",
    "\n",
    "    return chooser[flag](**sp)"
   ]
  },
  {
   "cell_type": "code",
   "execution_count": 8,
   "metadata": {},
   "outputs": [
    {
     "output_type": "error",
     "ename": "AttributeError",
     "evalue": "'str' object has no attribute 'get_text'",
     "traceback": [
      "\u001b[0;31m---------------------------------------------------------------------------\u001b[0m",
      "\u001b[0;31mAttributeError\u001b[0m                            Traceback (most recent call last)",
      "\u001b[0;32m<ipython-input-8-c8c3ea3a609e>\u001b[0m in \u001b[0;36m<module>\u001b[0;34m\u001b[0m\n\u001b[1;32m      1\u001b[0m \u001b[0;32mfor\u001b[0m \u001b[0mblock\u001b[0m \u001b[0;32min\u001b[0m \u001b[0mdata\u001b[0m\u001b[0;34m:\u001b[0m\u001b[0;34m\u001b[0m\u001b[0;34m\u001b[0m\u001b[0m\n\u001b[1;32m      2\u001b[0m     \u001b[0minner_soup\u001b[0m \u001b[0;34m=\u001b[0m \u001b[0mBeautifulSoup\u001b[0m\u001b[0;34m(\u001b[0m\u001b[0mstr\u001b[0m\u001b[0;34m(\u001b[0m\u001b[0mblock\u001b[0m\u001b[0;34m)\u001b[0m\u001b[0;34m,\u001b[0m \u001b[0;34m\"html.parser\"\u001b[0m\u001b[0;34m)\u001b[0m\u001b[0;34m\u001b[0m\u001b[0;34m\u001b[0m\u001b[0m\n\u001b[0;32m----> 3\u001b[0;31m     \u001b[0mname\u001b[0m \u001b[0;34m=\u001b[0m \u001b[0mcutter\u001b[0m\u001b[0;34m(\u001b[0m\u001b[0minner_soup\u001b[0m\u001b[0;34m,\u001b[0m \u001b[0;34m\"div.hd > a\"\u001b[0m\u001b[0;34m)\u001b[0m\u001b[0;34m.\u001b[0m\u001b[0mget_text\u001b[0m\u001b[0;34m(\u001b[0m\u001b[0mstrip\u001b[0m\u001b[0;34m=\u001b[0m\u001b[0;32mTrue\u001b[0m\u001b[0;34m)\u001b[0m\u001b[0;34m\u001b[0m\u001b[0;34m\u001b[0m\u001b[0m\n\u001b[0m\u001b[1;32m      4\u001b[0m     \u001b[0mpic\u001b[0m \u001b[0;34m=\u001b[0m \u001b[0mcutter\u001b[0m\u001b[0;34m(\u001b[0m\u001b[0minner_soup\u001b[0m\u001b[0;34m,\u001b[0m \u001b[0;34m\"div.pic > a > img\"\u001b[0m\u001b[0;34m)\u001b[0m\u001b[0;34m.\u001b[0m\u001b[0mget\u001b[0m\u001b[0;34m(\u001b[0m\u001b[0;34m\"src\"\u001b[0m\u001b[0;34m)\u001b[0m\u001b[0;34m\u001b[0m\u001b[0;34m\u001b[0m\u001b[0m\n\u001b[1;32m      5\u001b[0m     \u001b[0mrank\u001b[0m \u001b[0;34m=\u001b[0m \u001b[0mcutter\u001b[0m\u001b[0;34m(\u001b[0m\u001b[0minner_soup\u001b[0m\u001b[0;34m,\u001b[0m \u001b[0;34m\"div.pic > em\"\u001b[0m\u001b[0;34m)\u001b[0m\u001b[0;34m.\u001b[0m\u001b[0mget_text\u001b[0m\u001b[0;34m(\u001b[0m\u001b[0mstrip\u001b[0m\u001b[0;34m=\u001b[0m\u001b[0;32mTrue\u001b[0m\u001b[0;34m)\u001b[0m\u001b[0;34m\u001b[0m\u001b[0;34m\u001b[0m\u001b[0m\n",
      "\u001b[0;31mAttributeError\u001b[0m: 'str' object has no attribute 'get_text'"
     ]
    }
   ],
   "source": [
    "for block in data:\n",
    "    inner_soup = BeautifulSoup(str(block), \"html.parser\")\n",
    "    name = cutter(inner_soup, \"div.hd > a\").get_text(strip=True)\n",
    "    pic = cutter(inner_soup, \"div.pic > a > img\").get(\"src\")\n",
    "    rank = cutter(inner_soup, \"div.pic > em\").get_text(strip=True)\n",
    "    rating = cutter(\n",
    "        inner_soup, \"div.info > div.bd > div > span.rating_num\").get_text(strip=True)\n",
    "    director = cutter(\n",
    "        inner_soup, \"div.info > div.bd > p:nth-child(1)\").get_text(strip=True)\n",
    "    intro = cutter(\n",
    "        inner_soup, \"div.info > div.bd > p.quote > span\").get_text(strip=True)\n",
    "    data_block = {\n",
    "        \"name\": name,\n",
    "        \"pic\": pic,\n",
    "        \"rank\": rank,\n",
    "        \"rating\": rating,\n",
    "        \"director\": director,\n",
    "        \"intro\": intro,\n",
    "    }\n",
    "\n",
    "    data_continner.append(data_block)"
   ]
  },
  {
   "cell_type": "code",
   "execution_count": null,
   "metadata": {},
   "outputs": [],
   "source": [
    "print(data_continner)"
   ]
  },
  {
   "source": [
    "## 试验场"
   ],
   "cell_type": "markdown",
   "metadata": {}
  },
  {
   "cell_type": "code",
   "execution_count": null,
   "metadata": {
    "tags": []
   },
   "outputs": [],
   "source": [
    "inner_soup = BeautifulSoup(str(data[0]), \"html.parser\")\n",
    "name = inner_soup.select(\"div.hd > a\")\n",
    "print(\"data[0] = {}\".format(type(data[0])))\n",
    "print(\"str(data[0]) = {}\".format(type(str(data[0]))))\n",
    "print(\"innersoup = {}\".format(type(inner_soup)))\n",
    "print(\"name = {}\".format(type(name)))\n",
    "print(\"name[0] = {}\".format(type(name[0])))"
   ]
  },
  {
   "source": [
    "### new cutter()"
   ],
   "cell_type": "markdown",
   "metadata": {}
  },
  {
   "cell_type": "code",
   "execution_count": null,
   "metadata": {},
   "outputs": [],
   "source": []
  },
  {
   "cell_type": "code",
   "execution_count": null,
   "metadata": {},
   "outputs": [],
   "source": [
    "pic = cutter(inner_soup, \"div.pic > a > img\", 2, sp=\"src\")\n",
    "print(pic)"
   ]
  },
  {
   "source": [
    "## intro error"
   ],
   "cell_type": "markdown",
   "metadata": {}
  },
  {
   "cell_type": "code",
   "execution_count": null,
   "metadata": {},
   "outputs": [],
   "source": [
    "inner_soup = BeautifulSoup(str(block), \"html.parser\")\n",
    "name = cutter(inner_soup, \"div.hd > a\")\n",
    "pic = cutter(inner_soup, \"div.pic > a > img\", 2, sp=\"src\")\n",
    "rank = cutter(inner_soup, \"div.pic > em\")\n",
    "rating = cutter(\n",
    "    inner_soup, \"div.info > div.bd > div > span.rating_num\")\n",
    "director = cutter(\n",
    "    inner_soup, \"div.info > div.bd > p:nth-child(1)\")\n",
    "intro = cutter(\n",
    "    inner_soup, \"div.info > div.bd > p.quote > span\")\n",
    "data_block = {\n",
    "    \"name\": name,\n",
    "    \"pic\": pic,\n",
    "    \"rank\": rank,\n",
    "    \"rating\": rating,\n",
    "    \"director\": director,\n",
    "    \"intro\": intro,\n",
    "}\n"
   ]
  },
  {
   "cell_type": "code",
   "execution_count": null,
   "metadata": {},
   "outputs": [],
   "source": [
    "ResultSet = inner_soup.select(\"div.info > div.bd > p.quote > span\")\n",
    "BeautifulSoup(\"\", \"html.parser\").get_text()"
   ]
  },
  {
   "cell_type": "code",
   "execution_count": null,
   "metadata": {},
   "outputs": [],
   "source": [
    "keys =[\"name\", \"pic\", \"rank\", \"rating\", \"director\", \"intro\"]"
   ]
  },
  {
   "cell_type": "code",
   "execution_count": null,
   "metadata": {},
   "outputs": [],
   "source": [
    "import openpyxl"
   ]
  },
  {
   "cell_type": "code",
   "execution_count": null,
   "metadata": {},
   "outputs": [],
   "source": [
    "wb = openpyxl.Workbook()\n",
    "ws = wb.active"
   ]
  },
  {
   "cell_type": "code",
   "execution_count": null,
   "metadata": {},
   "outputs": [],
   "source": [
    "for row in ws.iter_rows(min_row=1, max_col=6):\n",
    "    for value,key in row,keys:\n",
    "        value.value = data_block[key]"
   ]
  },
  {
   "cell_type": "code",
   "execution_count": null,
   "metadata": {},
   "outputs": [],
   "source": [
    "[chr(letter).upper() for letter in range(65, 91)]"
   ]
  },
  {
   "cell_type": "code",
   "execution_count": null,
   "metadata": {},
   "outputs": [],
   "source": [
    "list(data_block.keys())[1]"
   ]
  },
  {
   "cell_type": "code",
   "execution_count": null,
   "metadata": {},
   "outputs": [],
   "source": [
    "for cell, key in zip(ws.rows, keys):\n",
    "    cell.value = key"
   ]
  },
  {
   "cell_type": "code",
   "execution_count": null,
   "metadata": {},
   "outputs": [],
   "source": [
    "for cell in ws[1]:\n",
    "    print(cell.value)"
   ]
  },
  {
   "source": [
    "i = [i for i in range(1, 20, 4)]\n",
    "j = [j for j in range(20, 1, -5)]\n",
    "print(\"i,j: {} {}\".format(i, j))"
   ],
   "cell_type": "code",
   "metadata": {},
   "execution_count": null,
   "outputs": []
  },
  {
   "cell_type": "code",
   "execution_count": null,
   "metadata": {},
   "outputs": [],
   "source": [
    "for inner_i, inner_j in zip(i, j):\n",
    "    print(\"i, j: {} {}\".format(inner_i, inner_j))"
   ]
  },
  {
   "cell_type": "code",
   "execution_count": null,
   "metadata": {},
   "outputs": [],
   "source": [
    "for zm, i in list(zip([chr(letter).upper() for letter in range(65, 91)], range(len(keys)))):\n",
    "    sheet[zm+str(1)].value = keys[i]"
   ]
  },
  {
   "cell_type": "code",
   "execution_count": null,
   "metadata": {},
   "outputs": [],
   "source": [
    "zipped = zip(ws.rows, keys)"
   ]
  },
  {
   "cell_type": "code",
   "execution_count": null,
   "metadata": {},
   "outputs": [],
   "source": [
    "list(zipped)"
   ]
  },
  {
   "cell_type": "code",
   "execution_count": null,
   "metadata": {},
   "outputs": [],
   "source": [
    "for i in range(65, 71):\n",
    "    print(chr(i))"
   ]
  },
  {
   "cell_type": "code",
   "execution_count": null,
   "metadata": {},
   "outputs": [],
   "source": [
    "help(chr)"
   ]
  },
  {
   "cell_type": "code",
   "execution_count": null,
   "metadata": {},
   "outputs": [],
   "source": [
    "keys = [\"sb\", \"p\", \"r\", \"rat\", \"tor\", \"intro\"]\n",
    "c_range = [range(1, 7)]\n",
    "for col, key in zip(c_range, keys):\n",
    "    ws.cell(1, col, key)"
   ]
  },
  {
   "cell_type": "code",
   "execution_count": null,
   "metadata": {},
   "outputs": [],
   "source": [
    "for cell in ws[1]:\n",
    "    print(cell.value)"
   ]
  },
  {
   "cell_type": "code",
   "execution_count": null,
   "metadata": {},
   "outputs": [],
   "source": [
    "for i in range(10):\n",
    "    print(i)"
   ]
  },
  {
   "cell_type": "code",
   "execution_count": null,
   "metadata": {},
   "outputs": [],
   "source": []
  }
 ]
}